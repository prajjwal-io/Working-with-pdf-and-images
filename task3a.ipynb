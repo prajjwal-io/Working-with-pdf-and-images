{
 "cells": [
  {
   "cell_type": "code",
   "execution_count": 12,
   "metadata": {},
   "outputs": [],
   "source": [
    "import os\n",
    "import fitz\n",
    "\n",
    "# Function to convert PDF pages to JPEG images\n",
    "def pdf_to_jpg(pdf_path, output_folder = 'Images'):\n",
    "    pdf_document = fitz.open(pdf_path)\n",
    "    page = pdf_document.load_page(0)  # Load only the first page\n",
    "    image = page.get_pixmap()\n",
    "    \n",
    "    # Get the name of the PDF file without the extension\n",
    "    pdf_name = os.path.splitext(os.path.basename(pdf_path))[0]\n",
    "    \n",
    "    # Create the output folder if it doesn't exist\n",
    "    os.makedirs(output_folder, exist_ok=True)\n",
    "    \n",
    "    # Save the image with the same name as the PDF file but with a .jpg extension\n",
    "    image_path = os.path.join(output_folder, f\"{pdf_name}.jpg\")\n",
    "    image.save(image_path)\n",
    "    \n",
    "    pdf_document.close()\n",
    "\n",
    "pdf_to_jpg('PDFs/patient_10785.pdf')"
   ]
  },
  {
   "cell_type": "code",
   "execution_count": 9,
   "metadata": {},
   "outputs": [],
   "source": [
    "# import required library\n",
    "import cv2\n",
    "\n",
    "def Capture_Event(event, x, y, flags, params):\n",
    "\t# If the left mouse button is pressed\n",
    "\tif event == cv2.EVENT_LBUTTONDOWN:\n",
    "\t\t# Print the coordinate of the \n",
    "\t\t# clicked point\n",
    "\t\tprint(f\"({x}, {y})\")\n",
    " \n",
    " # The Main Function\n",
    "if __name__==\"__main__\":\n",
    "\t# Read the Image.\n",
    "\timg = cv2.imread('Images/patient_10785.jpg', 1)\n",
    "\t# Show the Image\n",
    "\tcv2.imshow('image', img)\n",
    "\t# Set the Mouse Callback function, and call\n",
    "\t# the Capture_Event function.\n",
    "\tcv2.setMouseCallback('image', Capture_Event)\n",
    "\t# Press any key to exit\n",
    "\tcv2.waitKey(0)\n",
    "\t# Destroy all the windows\n",
    "\tcv2.destroyAllWindows()"
   ]
  },
  {
   "cell_type": "code",
   "execution_count": 13,
   "metadata": {},
   "outputs": [
    {
     "ename": "KeyboardInterrupt",
     "evalue": "",
     "output_type": "error",
     "traceback": [
      "\u001b[1;31m---------------------------------------------------------------------------\u001b[0m",
      "\u001b[1;31mKeyboardInterrupt\u001b[0m                         Traceback (most recent call last)",
      "\u001b[1;32mc:\\Users\\Prajjwal\\Downloads\\Documents\\origin\\task3\\task3.ipynb Cell 3\u001b[0m line \u001b[0;36m4\n\u001b[0;32m     <a href='vscode-notebook-cell:/c%3A/Users/Prajjwal/Downloads/Documents/origin/task3/task3.ipynb#W0sZmlsZQ%3D%3D?line=37'>38</a>\u001b[0m cv2\u001b[39m.\u001b[39mimshow(\u001b[39m'\u001b[39m\u001b[39mimage\u001b[39m\u001b[39m'\u001b[39m, img_copy)\n\u001b[0;32m     <a href='vscode-notebook-cell:/c%3A/Users/Prajjwal/Downloads/Documents/origin/task3/task3.ipynb#W0sZmlsZQ%3D%3D?line=39'>40</a>\u001b[0m \u001b[39m# Press 'c' to capture the coordinates and exit\u001b[39;00m\n\u001b[1;32m---> <a href='vscode-notebook-cell:/c%3A/Users/Prajjwal/Downloads/Documents/origin/task3/task3.ipynb#W0sZmlsZQ%3D%3D?line=40'>41</a>\u001b[0m key \u001b[39m=\u001b[39m cv2\u001b[39m.\u001b[39;49mwaitKey(\u001b[39m1\u001b[39;49m) \u001b[39m&\u001b[39m \u001b[39m0xFF\u001b[39m\n\u001b[0;32m     <a href='vscode-notebook-cell:/c%3A/Users/Prajjwal/Downloads/Documents/origin/task3/task3.ipynb#W0sZmlsZQ%3D%3D?line=41'>42</a>\u001b[0m \u001b[39mif\u001b[39;00m key \u001b[39m==\u001b[39m \u001b[39mord\u001b[39m(\u001b[39m'\u001b[39m\u001b[39mc\u001b[39m\u001b[39m'\u001b[39m):\n\u001b[0;32m     <a href='vscode-notebook-cell:/c%3A/Users/Prajjwal/Downloads/Documents/origin/task3/task3.ipynb#W0sZmlsZQ%3D%3D?line=42'>43</a>\u001b[0m \tx, y, w, h \u001b[39m=\u001b[39m x_start, y_start, x_end \u001b[39m-\u001b[39m x_start, y_end \u001b[39m-\u001b[39m y_start\n",
      "\u001b[1;31mKeyboardInterrupt\u001b[0m: "
     ]
    }
   ],
   "source": [
    "# import required library\n",
    "import cv2\n",
    "\n",
    "# Define the global variables\n",
    "x_start, y_start, x_end, y_end = 0, 0, 0, 0\n",
    "drawing_box = False\n",
    "\n",
    "# Define the function to draw the rectangle\n",
    "def draw_rectangle(event, x, y, flags, params):\n",
    "\tglobal x_start, y_start, x_end, y_end, drawing_box\n",
    "\t\n",
    "\tif event == cv2.EVENT_LBUTTONDOWN:\n",
    "\t\tdrawing_box = True\n",
    "\t\tx_start, y_start = x, y\n",
    "\t\t\n",
    "\telif event == cv2.EVENT_MOUSEMOVE:\n",
    "\t\tif drawing_box == True:\n",
    "\t\t\tx_end, y_end = x, y\n",
    "\t\t\t\n",
    "\telif event == cv2.EVENT_LBUTTONUP:\n",
    "\t\tdrawing_box = False\n",
    "\t\tx_end, y_end = x, y\n",
    "\n",
    "# The Main Function\n",
    "if __name__==\"__main__\":\n",
    "\t# Read the Image.\n",
    "\timg = cv2.imread('Images/patient_10785.jpg', 1)\n",
    "\t# Show the Image\n",
    "\tcv2.imshow('image', img)\n",
    "\t# Set the Mouse Callback function, and call\n",
    "\t# the draw_rectangle function.\n",
    "\tcv2.setMouseCallback('image', draw_rectangle)\n",
    "\t\n",
    "\twhile True:\n",
    "\t\t# Draw the rectangle on the image\n",
    "\t\timg_copy = img.copy()\n",
    "\t\tcv2.rectangle(img_copy, (x_start, y_start), (x_end, y_end), (0, 255, 0), 2)\n",
    "\t\tcv2.imshow('image', img_copy)\n",
    "\t\t\n",
    "\t\t# Press 'c' to capture the coordinates and exit\n",
    "\t\tkey = cv2.waitKey(1) & 0xFF\n",
    "\t\tif key == ord('c'):\n",
    "\t\t\tx, y, w, h = x_start, y_start, x_end - x_start, y_end - y_start\n",
    "\t\t\tprint(f\"x: {x}, y: {y}, width: {w}, height: {h}\")\n",
    "\t\t\tbreak\n",
    "\t\t\t\n",
    "\t\t# Press 'r' to reset the rectangle\n",
    "\t\telif key == ord('r'):\n",
    "\t\t\tx_start, y_start, x_end, y_end = 0, 0, 0, 0\n",
    "\t\t\t\n",
    "\t# Destroy all the windows\n",
    "\tcv2.destroyAllWindows()"
   ]
  },
  {
   "cell_type": "code",
   "execution_count": null,
   "metadata": {},
   "outputs": [],
   "source": []
  }
 ],
 "metadata": {
  "kernelspec": {
   "display_name": "Python 3",
   "language": "python",
   "name": "python3"
  },
  "language_info": {
   "codemirror_mode": {
    "name": "ipython",
    "version": 3
   },
   "file_extension": ".py",
   "mimetype": "text/x-python",
   "name": "python",
   "nbconvert_exporter": "python",
   "pygments_lexer": "ipython3",
   "version": "3.11.2"
  },
  "orig_nbformat": 4
 },
 "nbformat": 4,
 "nbformat_minor": 2
}
