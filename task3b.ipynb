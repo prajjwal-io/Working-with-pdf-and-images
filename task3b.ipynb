{
 "cells": [
  {
   "cell_type": "code",
   "execution_count": 33,
   "metadata": {},
   "outputs": [
    {
     "name": "stdout",
     "output_type": "stream",
     "text": [
      "Number of pdf files: 50\n",
      "PDFs\\patient_14392.pdf is abnormal\n",
      "PDFs\\patient_18453.pdf is abnormal\n",
      "PDFs\\patient_21670.pdf is abnormal\n",
      "PDFs\\patient_25106.pdf is abnormal\n",
      "PDFs\\patient_26587.pdf is abnormal\n",
      "PDFs\\patient_43218.pdf is abnormal\n",
      "PDFs\\patient_48729.pdf is abnormal\n",
      "PDFs\\patient_50312.pdf is abnormal\n",
      "PDFs\\patient_63218.pdf is abnormal\n",
      "PDFs\\patient_67981.pdf is abnormal\n",
      "PDFs\\patient_71025.pdf is abnormal\n",
      "PDFs\\patient_76084.pdf is abnormal\n",
      "PDFs\\patient_76845.pdf is abnormal\n",
      "PDFs\\patient_90473.pdf is abnormal\n",
      "PDFs\\patient_94168.pdf is abnormal\n",
      "Number of normal cases: 35\n",
      "Number of abnormal cases: 15\n"
     ]
    }
   ],
   "source": [
    "import glob\n",
    "from PyPDF2 import PdfReader\n",
    "\n",
    "# get all pdf files in the directory using glob , trying new library instead of os\n",
    "pdf_files = glob.glob('PDFs/*.pdf')\n",
    "print(f'Number of pdf files: {len(pdf_files)}')\n",
    "\n",
    "# define abnormal keywords\n",
    "abnormal_keywords = ['ventriculomegaly', 'spina bifida', 'ectopic foci', 'posterior fossa cyst', 'choroid plexus cyst', 'mega cisterna magna', 'absent nasal bone']\n",
    "\n",
    "# initialize counters\n",
    "normal_count = 0\n",
    "abnormal_count = 0\n",
    "\n",
    "# loop through each pdf file\n",
    "for pdf_file in pdf_files:\n",
    "    # open the pdf file\n",
    "    with open(pdf_file, 'rb') as f:\n",
    "        # read the pdf file\n",
    "        pdf_reader = PdfReader(f)\n",
    "\n",
    "        # extract the text from each page of the pdf file\n",
    "        text = ''\n",
    "        for page in pdf_reader.pages:\n",
    "            text += page.extract_text()\n",
    "\n",
    "        # search for the abnormal keywords in the extracted text\n",
    "        is_normal = False\n",
    "        for keyword in abnormal_keywords:\n",
    "            if ('no ' + keyword) in text.lower():\n",
    "                is_normal = True\n",
    "            elif (keyword + ' found') in text.lower():\n",
    "                break\n",
    "\n",
    "        if is_normal:\n",
    "            normal_count += 1\n",
    "        else:\n",
    "            abnormal_count += 1\n",
    "            print(f'{pdf_file} is abnormal')\n",
    "\n",
    "# print the results\n",
    "print(f'Number of normal cases: {normal_count}')\n",
    "print(f'Number of abnormal cases: {abnormal_count}')\n"
   ]
  },
  {
   "cell_type": "code",
   "execution_count": null,
   "metadata": {},
   "outputs": [],
   "source": []
  }
 ],
 "metadata": {
  "kernelspec": {
   "display_name": "Python 3",
   "language": "python",
   "name": "python3"
  },
  "language_info": {
   "codemirror_mode": {
    "name": "ipython",
    "version": 3
   },
   "file_extension": ".py",
   "mimetype": "text/x-python",
   "name": "python",
   "nbconvert_exporter": "python",
   "pygments_lexer": "ipython3",
   "version": "3.11.2"
  },
  "orig_nbformat": 4
 },
 "nbformat": 4,
 "nbformat_minor": 2
}
